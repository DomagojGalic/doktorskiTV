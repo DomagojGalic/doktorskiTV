{
 "cells": [
  {
   "cell_type": "code",
   "execution_count": null,
   "metadata": {},
   "outputs": [],
   "source": [
    "import numpy as np\n",
    "import matplotlib.pyplot as plt\n",
    "from scipy.stats import binom\n",
    "\n",
    "from tqdm import tqdm_notebook as tqdm\n",
    "\n",
    "from seaborn import set_style\n",
    "set_style(\"whitegrid\")"
   ]
  },
  {
   "cell_type": "markdown",
   "metadata": {},
   "source": [
    "## Opis problema:\n",
    "U posudi imamo $m$ crvenih i $n$ bijelih kuglica. Izvlačimo kuglice iz posude dokle got izvlačimo istu boju. Kada izvučemo kuglicu druge boje prekidamo niz. Bacamo pristran novčić, čija je vjerojatnost da padne glava $p$, onliko puta koliko smo kuglica iste boje izvukli. Konačan rezultat je broj glava koji smo dobili.\n",
    "\n",
    "_primjer:_\n",
    "izvlačimo niz kuglica $b, b, b, b, b, c$, bacamo novčić 5 puta $p, g, g, p, g$.\n",
    "Dakle rezultat je 3."
   ]
  },
  {
   "cell_type": "code",
   "execution_count": null,
   "metadata": {},
   "outputs": [],
   "source": [
    "# za potrebe provjere\n",
    "m, n = 80, 20\n",
    "p = .5\n",
    "numberOfSimulations = 10**6"
   ]
  },
  {
   "cell_type": "markdown",
   "metadata": {},
   "source": [
    "## Prvo simuliramo"
   ]
  },
  {
   "cell_type": "code",
   "execution_count": null,
   "metadata": {},
   "outputs": [],
   "source": [
    "# bijelu označimo s 1\n",
    "# crvenu s 0\n",
    "def singleSimulation(m, n, p):\n",
    "    draw = np.random.binomial(1, n / (m + n))\n",
    "    counter = 1\n",
    "    while True:\n",
    "        #print(\"draw: \", draw)\n",
    "        if draw:\n",
    "            if n <= 1:\n",
    "                break\n",
    "            n -= 1\n",
    "        else:\n",
    "\n",
    "            if m <= 1:\n",
    "                break\n",
    "            m -= 1\n",
    "        \n",
    "        newDraw = np.random.binomial(1, n / (m + n))\n",
    "        #print(\"m, n = \", m, n)\n",
    "        if draw != newDraw:\n",
    "            break\n",
    "        else:\n",
    "            draw = newDraw\n",
    "            counter += 1\n",
    "    heads = np.random.binomial(counter, p)\n",
    "    #print(\"counter: \", counter)\n",
    "    return heads, counter"
   ]
  },
  {
   "cell_type": "code",
   "execution_count": null,
   "metadata": {},
   "outputs": [],
   "source": [
    "def simulation(m, n, p, simNumber):\n",
    "    sims = np.empty(simNumber)\n",
    "    for i in tqdm(range(simNumber)):\n",
    "        sims[i], _ = singleSimulation(m, n, p)\n",
    "    unique, counts = np.unique(sims, return_counts=True)\n",
    "    fig, ax = plt.subplots(figsize = (15, 8))\n",
    "    ax.bar(unique, counts / simNumber)\n",
    "    ax.set_xlim([-1, np.round((m + n) / 4)])\n",
    "    plt.show(fig)\n",
    "    plt.close(fig)\n",
    "    return unique, counts / simNumber"
   ]
  },
  {
   "cell_type": "code",
   "execution_count": null,
   "metadata": {},
   "outputs": [],
   "source": [
    "simValue, simProb = simulation(m, n, p, numberOfSimulations)"
   ]
  },
  {
   "cell_type": "markdown",
   "metadata": {},
   "source": [
    "## Sada rješavamo analitički"
   ]
  },
  {
   "cell_type": "markdown",
   "metadata": {},
   "source": [
    "Ako sam prvo izvukao crvenu kuglicu, vjerojatnost da ću u idućem izvlačenju dobiti crvenu je $\\frac{m - 1}{(m - 1) + n}$, a vjerojatnost da ću u trećem dobiti crvenu je $\\frac{m - 2}{(m - 2) + n}$.\n",
    "Dakle vjerojatnost da će niz izvučenih crvenih kuglica biti $k$ (gdje je $k < m$) je $$ \\frac{m}{m + n} \\cdot \\frac{m - 1}{(m - 1) + n}\n",
    " \\cdot \\frac{m - 2}{(m - 2) + n} \\cdot \\dots \\cdot \\frac{(m - (k - 1))}{(m - (k - 1)) + n} \\cdot \\frac{n}{(m - k) + n}\n",
    " = \\prod_{i = 0}^{k - 1} \\frac{m - i}{(m - i) + n} \\cdot \\frac{n}{(m - k) + n} .$$\n",
    "Zadnji faktor je tu zato što zadnja kuglica koju izvlačimo mora biti bijela.\n",
    "Analogno ako smo prvo izvukli bijelu.\n",
    "Dakle vjerojatnost da će niz izvučenih bijelih kuglica biti $k$ (za $k < n$) je\n",
    "$$ \\frac{n}{m + n} \\cdot \\frac{n - 1}{m + (n - 1)} \\cdot \\frac{n - 2}{m + (n - 2)} \\cdot \\dots \\cdot \\frac{(n - (k - 1))}{m + (n - (k - 1))} \\cdot \\frac{m}{m + (n - k)} = \\prod_{i = 0}^{k - 1} \\frac{m - i}{m + (n - i)} \\cdot \\frac{n}{m + (n - k)} .$$\n",
    "Vjerojatnost da ćemo dobiti niz duljine $k$ je sada:\n",
    "$$ \\bigg( \\prod_{i = 0}^{k - 1} \\frac{m - i}{(m - i) + n} \\bigg) \\cdot \\frac{n}{(m - k) + n} \\cdot \\mathbb{1}_{\\{ k \\leq m \\}} \n",
    " + \\bigg( \\prod_{i = 0}^{k - 1} \\frac{n - i}{m + (n - i)} \\bigg) \\cdot \\frac{m}{m + (n - k)} \\cdot \\mathbb{1}_{\\{ k \\leq n \\}} $$"
   ]
  },
  {
   "cell_type": "code",
   "execution_count": null,
   "metadata": {},
   "outputs": [],
   "source": [
    "def drawDensity(m, n, k):\n",
    "    assert m + n > 0\n",
    "    assert k >= 0\n",
    "    \n",
    "    if k == 0:\n",
    "        return 0.\n",
    "    \n",
    "    # ako imamo samo bijele (m = 0), onda ćemo izvlačiti dok ih sve ne izvučemo\n",
    "    # isto vrijedi i ako imamo samo crvene (n = 0)\n",
    "    if m == 0:\n",
    "        if k == n:\n",
    "            return 1.\n",
    "        else:\n",
    "            return 0.\n",
    "    if n == 0:\n",
    "        if k == m:\n",
    "            return 1.\n",
    "        else:\n",
    "            return 0.\n",
    "    \n",
    "    if m <= k:\n",
    "        redProbability = 0\n",
    "    else:\n",
    "        redProbability = 1\n",
    "        for i in range(k):\n",
    "            redProbability *= ((m - i) / ((m - i) + n))\n",
    "        redProbability *= (n / ((m - k) + n))\n",
    "        \n",
    "    if n <= k:\n",
    "        whiteProbability = 0\n",
    "    else:\n",
    "        whiteProbability = 1\n",
    "        for i in range(k):\n",
    "            whiteProbability *= ((n - 1) / (m + (n - i)))\n",
    "        whiteProbability *= (m / (m + (n - k)))\n",
    "        \n",
    "    return redProbability + whiteProbability"
   ]
  },
  {
   "cell_type": "markdown",
   "metadata": {},
   "source": [
    "Usporedimo analitički dobivenu gustoću sa rezulatatom simulacije"
   ]
  },
  {
   "cell_type": "code",
   "execution_count": null,
   "metadata": {},
   "outputs": [],
   "source": [
    "def drawDensityPlot(m, n):\n",
    "    density = np.empty(m + n)\n",
    "    for k in range(m + n):\n",
    "        density[k] = drawDensity(m, n, k + 1)\n",
    "    drawValue = np.arange(m + n) + 1\n",
    "    fig, ax = plt.subplots(figsize = (15, 8))\n",
    "    ax.bar(drawValue, density)\n",
    "    ax.set_xlim([0, np.round((m + n) / 3)])\n",
    "    plt.show(fig)\n",
    "    plt.close(fig)\n",
    "    return drawValue, density"
   ]
  },
  {
   "cell_type": "code",
   "execution_count": null,
   "metadata": {},
   "outputs": [],
   "source": [
    "_ = drawDensityPlot(m, n)"
   ]
  },
  {
   "cell_type": "code",
   "execution_count": null,
   "metadata": {},
   "outputs": [],
   "source": [
    "def drawDensitySimulation(m, n, simNumber):\n",
    "    drawSims = np.empty(simNumber)\n",
    "    for i in tqdm(range(simNumber)):\n",
    "        _, drawSims[i] = singleSimulation(m, n, .5)\n",
    "    unique, counts = np.unique(drawSims, return_counts=True)\n",
    "    fig, ax = plt.subplots(figsize = (15, 8))\n",
    "    ax.bar(unique, counts / simNumber)\n",
    "    ax.set_xlim([0, np.round((m + n) / 3)])\n",
    "    plt.show(fig)\n",
    "    plt.close(fig)\n",
    "    return unique, counts / simNumber"
   ]
  },
  {
   "cell_type": "code",
   "execution_count": null,
   "metadata": {},
   "outputs": [],
   "source": [
    "_ = drawDensitySimulation(m, n, numberOfSimulations)"
   ]
  },
  {
   "cell_type": "markdown",
   "metadata": {},
   "source": [
    "Označimo li slučajnu varijablu koja nam daje duljinu niza sa $X$, sada smo za dane parametre $m, \\: n$ odredili $f_X$.\n",
    "Ako slučajnu varijablu koja broji glave označimo sa $Y$, onda vrijedi:\n",
    "$$ \\mathbb{P}\\big(Y = k \\big) = \\sum_{i = k}^{m \\lor n} \\mathbb{P}\\big(X = i\\big) \\cdot \\binom{i}{k} p^k (1 - p)^{i - k}. $$\n",
    "Odnosno,\n",
    "$$ \\mathbb{P}\\big(Y = j \\big) = \\sum_{k = j}^{m \\lor n} \\bigg( \\bigg( \\prod_{i = 0}^{k - 1} \\frac{m - i}{(m - i) + n} \\bigg) \\cdot \\frac{n}{(m - k) + n} \\cdot \\mathbb{1}_{\\{ k \\leq m \\}} \n",
    " + \\bigg( \\prod_{i = 0}^{k - 1} \\frac{n - i}{m + (n - i)} \\bigg) \\cdot \\frac{m}{m + (n - k)} \\cdot \\mathbb{1}_{\\{ k \\leq n \\}} \\bigg)  \\cdot \\binom{k}{j} p^k (1 - p)^{k - j}. $$"
   ]
  },
  {
   "cell_type": "code",
   "execution_count": null,
   "metadata": {},
   "outputs": [],
   "source": [
    "def coinDensity(m, n, p, k):\n",
    "    assert m + n > 0\n",
    "    assert k >= 0\n",
    "    \n",
    "    maxIndex = np.max((m, n))\n",
    "    \n",
    "    if k > maxIndex:\n",
    "        return 0.\n",
    "    \n",
    "    coinProbability = 0.\n",
    "    for i in range(k, maxIndex + 1):\n",
    "        coinProbability += drawDensity(m, n, i) * binom.pmf(k, i, p)\n",
    "    return coinProbability"
   ]
  },
  {
   "cell_type": "code",
   "execution_count": null,
   "metadata": {},
   "outputs": [],
   "source": [
    "def plotCoinDensity(m, n, p):\n",
    "    density = np.empty(m + n)\n",
    "    for k in range(m + n):\n",
    "        density[k] = coinDensity(m, n, p, k)\n",
    "    drawValue = np.arange(m + n)\n",
    "    fig, ax = plt.subplots(figsize = (15, 8))\n",
    "    ax.bar(drawValue, density)\n",
    "    ax.set_xlim([-1, np.round((m + n) / 3)])\n",
    "    plt.show(fig)\n",
    "    plt.close(fig)\n",
    "    return drawValue, density"
   ]
  },
  {
   "cell_type": "code",
   "execution_count": null,
   "metadata": {},
   "outputs": [],
   "source": [
    "anValue, anProb = plotCoinDensity(m, n, p)"
   ]
  },
  {
   "cell_type": "code",
   "execution_count": null,
   "metadata": {},
   "outputs": [],
   "source": [
    "fig, ax = plt.subplots(figsize = (15, 8))\n",
    "ax.bar(simValue, simProb, color = \"blue\", alpha = .5, label = \"simulirane vrijednost\")\n",
    "ax.bar(anValue, anProb, color = \"red\", alpha = .5, label = \"analitički dobivene vrijednost\")\n",
    "ax.set_xlim([-1, 30])\n",
    "ax.legend()\n",
    "plt.show(fig)"
   ]
  },
  {
   "cell_type": "markdown",
   "metadata": {},
   "source": [
    "Analitički dobivene vrijednosti imaju puno dulji rep od simulacije, to vjerojatno objašnjava precijenjene vjerojatnosti za $0$ i $1$."
   ]
  }
 ],
 "metadata": {
  "kernelspec": {
   "display_name": "Python 3",
   "language": "python",
   "name": "python3"
  },
  "language_info": {
   "codemirror_mode": {
    "name": "ipython",
    "version": 3
   },
   "file_extension": ".py",
   "mimetype": "text/x-python",
   "name": "python",
   "nbconvert_exporter": "python",
   "pygments_lexer": "ipython3",
   "version": "3.7.1"
  }
 },
 "nbformat": 4,
 "nbformat_minor": 2
}
